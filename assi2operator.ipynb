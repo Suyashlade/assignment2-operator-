{
 "cells": [
  {
   "cell_type": "code",
   "execution_count": 5,
   "id": "c10c3489-6006-4f6b-81d4-c8491c05fc59",
   "metadata": {},
   "outputs": [
    {
     "name": "stdout",
     "output_type": "stream",
     "text": [
      "Quotient:  3\n",
      "Remainder 1\n",
      "sum 13\n",
      "difference 7\n",
      "product 30\n",
      "\n",
      "Quotient:  19\n",
      "Remainder 4\n",
      "sum 104\n",
      "difference 94\n",
      "product 495\n"
     ]
    }
   ],
   "source": [
    "def find(n, m):\n",
    "    q = n//m\n",
    "    print(\"Quotient: \", q)\n",
    "    r = n%m\n",
    "    print(\"Remainder\", r)\n",
    "    s=n+m\n",
    "    print(\"sum\",s)\n",
    "    d=n-m\n",
    "    print(\"difference\",d)\n",
    "    p=n*m\n",
    "    print(\"product\",p)\n",
    "     \n",
    "# Driver Code\n",
    "find(10, 3)\n",
    "print()\n",
    "find(99, 5)"
   ]
  },
  {
   "cell_type": "code",
   "execution_count": 19,
   "id": "ea1c2694-4b49-4e50-9d7b-73a69d293ca7",
   "metadata": {},
   "outputs": [
    {
     "name": "stdout",
     "output_type": "stream",
     "text": [
      "8\n",
      "8\n"
     ]
    }
   ],
   "source": [
    "a = 3\n",
    "b = 5\n",
    "  \n",
    "c = a + b \n",
    "print(c)\n",
    "a += b \n",
    "print(a)"
   ]
  },
  {
   "cell_type": "code",
   "execution_count": 8,
   "id": "750eae55-8380-4817-9860-141ff661a7c3",
   "metadata": {},
   "outputs": [
    {
     "name": "stdout",
     "output_type": "stream",
     "text": [
      "-2\n"
     ]
    }
   ],
   "source": [
    "a = 3\n",
    "b = 5\n",
    "a-=b\n",
    "print(a)"
   ]
  },
  {
   "cell_type": "code",
   "execution_count": 9,
   "id": "ded0ea18-825f-464d-a8a5-32735c9162ee",
   "metadata": {},
   "outputs": [
    {
     "name": "stdout",
     "output_type": "stream",
     "text": [
      "15\n"
     ]
    }
   ],
   "source": [
    "a = 3\n",
    "b = 5\n",
    "a*=b\n",
    "print(a)"
   ]
  },
  {
   "cell_type": "code",
   "execution_count": 10,
   "id": "9a924d0f-06a1-476b-b80b-493d22adc681",
   "metadata": {},
   "outputs": [
    {
     "name": "stdout",
     "output_type": "stream",
     "text": [
      "0.6\n"
     ]
    }
   ],
   "source": [
    "a = 3\n",
    "b = 5\n",
    "a/=b\n",
    "print(a)"
   ]
  },
  {
   "cell_type": "code",
   "execution_count": 11,
   "id": "4df75bd1-63b3-40c0-be9e-4ab4d14bd6a7",
   "metadata": {},
   "outputs": [
    {
     "name": "stdout",
     "output_type": "stream",
     "text": [
      "243\n"
     ]
    }
   ],
   "source": [
    "a = 3\n",
    "b = 5\n",
    "a**=b\n",
    "print(a)"
   ]
  },
  {
   "cell_type": "code",
   "execution_count": 12,
   "id": "a8c264d1-9f6b-4b52-a92e-087539ab69dc",
   "metadata": {},
   "outputs": [
    {
     "name": "stdout",
     "output_type": "stream",
     "text": [
      "3\n"
     ]
    }
   ],
   "source": [
    "a = 3\n",
    "b = 5\n",
    "a%=b\n",
    "print(a)"
   ]
  },
  {
   "cell_type": "code",
   "execution_count": 13,
   "id": "4d53afb8-5a44-40b4-8c73-085002e442bb",
   "metadata": {},
   "outputs": [
    {
     "name": "stdout",
     "output_type": "stream",
     "text": [
      "0\n"
     ]
    }
   ],
   "source": [
    "a = 3\n",
    "b = 5\n",
    "a//=b\n",
    "print(a)"
   ]
  },
  {
   "cell_type": "code",
   "execution_count": 14,
   "id": "be3e2ad1-6c59-4bc9-a887-ef604852ae87",
   "metadata": {},
   "outputs": [
    {
     "name": "stdout",
     "output_type": "stream",
     "text": [
      "1\n"
     ]
    }
   ],
   "source": [
    "a = 3\n",
    "b = 5\n",
    "a&=b\n",
    "print(a)"
   ]
  },
  {
   "cell_type": "code",
   "execution_count": 15,
   "id": "db514bf4-b8f0-479e-91e6-721b3945344c",
   "metadata": {},
   "outputs": [
    {
     "name": "stdout",
     "output_type": "stream",
     "text": [
      "7\n"
     ]
    }
   ],
   "source": [
    "a = 3\n",
    "b = 5\n",
    "a|=b\n",
    "print(a)"
   ]
  },
  {
   "cell_type": "code",
   "execution_count": 16,
   "id": "5d25f0d6-4785-4f48-8702-6f1e2d891428",
   "metadata": {},
   "outputs": [
    {
     "name": "stdout",
     "output_type": "stream",
     "text": [
      "6\n"
     ]
    }
   ],
   "source": [
    "a = 3\n",
    "b = 5\n",
    "a^=b\n",
    "print(a)"
   ]
  },
  {
   "cell_type": "code",
   "execution_count": 17,
   "id": "06318e97-9cc2-470c-866d-e9618299eae6",
   "metadata": {},
   "outputs": [
    {
     "name": "stdout",
     "output_type": "stream",
     "text": [
      "0\n"
     ]
    }
   ],
   "source": [
    "a = 3\n",
    "b = 5\n",
    "a>>=b\n",
    "print(a)"
   ]
  },
  {
   "cell_type": "code",
   "execution_count": 18,
   "id": "918d2258-b7e6-4578-bbb8-92fc581a1742",
   "metadata": {},
   "outputs": [
    {
     "name": "stdout",
     "output_type": "stream",
     "text": [
      "96\n"
     ]
    }
   ],
   "source": [
    "a = 3\n",
    "b = 5\n",
    "a<<=b\n",
    "print(a)"
   ]
  },
  {
   "cell_type": "code",
   "execution_count": 20,
   "id": "67fdad5c-2cc2-47b3-a302-c06162c7845c",
   "metadata": {},
   "outputs": [
    {
     "name": "stdout",
     "output_type": "stream",
     "text": [
      "False\n",
      "True\n",
      "False\n",
      "True\n",
      "False\n"
     ]
    }
   ],
   "source": [
    "a=3\n",
    "b=6\n",
    "print(a>b)\n",
    "print(a<b)\n",
    "print(a==b)\n",
    "print(a<=b)\n",
    "print(a>=b)"
   ]
  },
  {
   "cell_type": "code",
   "execution_count": 21,
   "id": "b8846a4a-5b4a-433d-b852-1af17cbc2688",
   "metadata": {},
   "outputs": [
    {
     "name": "stdout",
     "output_type": "stream",
     "text": [
      "The numbers are greater than 0\n",
      "Atleast one number is not greater than 0\n"
     ]
    }
   ],
   "source": [
    "a = 10\n",
    "b = 10\n",
    "c = -10\n",
    "if a > 0 and b > 0: \n",
    "    print(\"The numbers are greater than 0\") \n",
    "if a > 0 and b > 0 and c > 0: \n",
    "    print(\"The numbers are greater than 0\") \n",
    "else: \n",
    "    print(\"Atleast one number is not greater than 0\")"
   ]
  },
  {
   "cell_type": "code",
   "execution_count": 22,
   "id": "c5b23034-960c-4c04-b585-5547c73cbc05",
   "metadata": {},
   "outputs": [
    {
     "name": "stdout",
     "output_type": "stream",
     "text": [
      "Either of the number is greater than 0\n"
     ]
    }
   ],
   "source": [
    "a = 10\n",
    "b = -10\n",
    "\n",
    "if a > 0 or b > 0: \n",
    "    print(\"Either of the number is greater than 0\") \n",
    "else: \n",
    "    print(\"No number is greater than 0\") "
   ]
  },
  {
   "cell_type": "code",
   "execution_count": 23,
   "id": "cbeadb5d-77d1-4eed-a859-cd2a0473c3ff",
   "metadata": {},
   "outputs": [
    {
     "name": "stdout",
     "output_type": "stream",
     "text": [
      "10 is divisible by either 3 or 5\n"
     ]
    }
   ],
   "source": [
    "a = 10\n",
    " \n",
    "if not a: \n",
    "    print(\"Boolean value of a is True\") \n",
    "if not (a%3 == 0 or a%5 == 0): \n",
    "    print(\"10 is not divisible by either 3 or 5\") \n",
    "else: \n",
    "    print(\"10 is divisible by either 3 or 5\")"
   ]
  },
  {
   "cell_type": "code",
   "execution_count": 24,
   "id": "c7c4fcd6-82d4-4892-8592-52a98169aa65",
   "metadata": {},
   "outputs": [
    {
     "name": "stdout",
     "output_type": "stream",
     "text": [
      "140706967840840\n",
      "140706967840840\n",
      "140706967840840\n"
     ]
    }
   ],
   "source": [
    "   \n",
    "x = 42\n",
    "y = x\n",
    "z = 42\n",
    " \n",
    "print(id(x))  \n",
    "print(id(y))  \n",
    "print(id(z))"
   ]
  },
  {
   "cell_type": "code",
   "execution_count": 25,
   "id": "4292a8dc-c34d-4e90-97e6-906f0f415019",
   "metadata": {},
   "outputs": [
    {
     "name": "stdout",
     "output_type": "stream",
     "text": [
      "a & b = 0\n",
      "a | b = 14\n",
      "~a = -11\n",
      "a ^ b = 14\n"
     ]
    }
   ],
   "source": [
    "a = 10\n",
    "b = 4\n",
    "print(\"a & b =\", a & b)\n",
    "print(\"a | b =\", a | b)\n",
    "print(\"~a =\", ~a)\n",
    "print(\"a ^ b =\", a ^ b)"
   ]
  },
  {
   "cell_type": "code",
   "execution_count": 26,
   "id": "73d491dc-a2b9-49dd-bd4d-230a8bed3e8b",
   "metadata": {},
   "outputs": [
    {
     "name": "stdout",
     "output_type": "stream",
     "text": [
      "a >> 1 = 5\n",
      "b >> 1 = -5\n",
      "a << 1 = 10\n",
      "b << 1 = -20\n"
     ]
    }
   ],
   "source": [
    "a = 10\n",
    "b = -10\n",
    "print(\"a >> 1 =\", a >> 1)\n",
    "print(\"b >> 1 =\", b >> 1) \n",
    "a = 5\n",
    "b = -10\n",
    "print(\"a << 1 =\", a << 1)\n",
    "print(\"b << 1 =\", b << 1)"
   ]
  },
  {
   "cell_type": "code",
   "execution_count": 28,
   "id": "9648a5a0-6d36-4b7c-856a-b0456f32852c",
   "metadata": {},
   "outputs": [
    {
     "name": "stdout",
     "output_type": "stream",
     "text": [
      "-3\n",
      "-4\n",
      "4\n"
     ]
    }
   ],
   "source": [
    "a=3\n",
    "b=-4\n",
    "print(-a)\n",
    "print(+b)\n",
    "print(-b)"
   ]
  },
  {
   "cell_type": "code",
   "execution_count": 29,
   "id": "d8154b5e-b96f-4d50-bd1b-e0787c9584ef",
   "metadata": {},
   "outputs": [
    {
     "name": "stdout",
     "output_type": "stream",
     "text": [
      "10\n"
     ]
    }
   ],
   "source": [
    "a, b = 10, 20\n",
    "\n",
    "min = a if a < b else b\n",
    " \n",
    "print(min)"
   ]
  },
  {
   "cell_type": "code",
   "execution_count": 33,
   "id": "59e1432c-10a2-48fd-8602-aae8e0f1569b",
   "metadata": {},
   "outputs": [
    {
     "name": "stdout",
     "output_type": "stream",
     "text": [
      "20\n",
      "10\n"
     ]
    }
   ],
   "source": [
    "a, b = 10, 20   #In this example, we are using tuples to demonstrate ternary operator. We are using tuple for selecting an item and if [a<b] is true \n",
    "               #it return 1, so element with 1 index will print else if [a<b] is false it return 0, so element with 0 index will print\n",
    " \n",
    "print( (a, b) [a < b] )\n",
    "print((b, a) [a < b] )"
   ]
  },
  {
   "cell_type": "code",
   "execution_count": null,
   "id": "3590503c-30c1-47f8-b9b9-d3f0b7451e7a",
   "metadata": {},
   "outputs": [],
   "source": []
  }
 ],
 "metadata": {
  "kernelspec": {
   "display_name": "Python 3 (ipykernel)",
   "language": "python",
   "name": "python3"
  },
  "language_info": {
   "codemirror_mode": {
    "name": "ipython",
    "version": 3
   },
   "file_extension": ".py",
   "mimetype": "text/x-python",
   "name": "python",
   "nbconvert_exporter": "python",
   "pygments_lexer": "ipython3",
   "version": "3.11.4"
  }
 },
 "nbformat": 4,
 "nbformat_minor": 5
}
